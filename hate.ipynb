{
 "metadata": {
  "language_info": {
   "codemirror_mode": {
    "name": "ipython",
    "version": 3
   },
   "file_extension": ".py",
   "mimetype": "text/x-python",
   "name": "python",
   "nbconvert_exporter": "python",
   "pygments_lexer": "ipython3",
   "version": "3.8.5-final"
  },
  "orig_nbformat": 2,
  "kernelspec": {
   "name": "python3",
   "display_name": "Python 3.8.5 64-bit ('venv')",
   "metadata": {
    "interpreter": {
     "hash": "beb4d6dd6a0cdea1b58b363756e9f31b10c3744cffe03deaf9aa5ba412c50c9d"
    }
   }
  }
 },
 "nbformat": 4,
 "nbformat_minor": 2,
 "cells": [
  {
   "cell_type": "code",
   "execution_count": 36,
   "metadata": {},
   "outputs": [
    {
     "output_type": "stream",
     "name": "stderr",
     "text": [
      "[nltk_data] Downloading package stopwords to\n[nltk_data]     /home/skillet/nltk_data...\n[nltk_data]   Package stopwords is already up-to-date!\n"
     ]
    }
   ],
   "source": [
    "import pandas as pd\n",
    "from translate import translate\n",
    "import nltk\n",
    "nltk.download('stopwords')\n",
    "from textblob import TextBlob, Word, Blobber\n",
    "\n",
    "def get_polarity(all_text):\n",
    "       r = []\n",
    "       for i in range(len(all_text)):\n",
    "              text = TextBlob(all_text[i])\n",
    "              r.append(text.sentiment[0])\n",
    "       return r\n"
   ]
  },
  {
   "cell_type": "code",
   "execution_count": 37,
   "metadata": {},
   "outputs": [],
   "source": [
    "df = pd.read_csv('d.csv')"
   ]
  },
  {
   "cell_type": "code",
   "execution_count": 38,
   "metadata": {},
   "outputs": [
    {
     "output_type": "execute_result",
     "data": {
      "text/plain": [
       "                user_id                                              tweet\n",
       "0   1331328404721967104  @CathyJuvinao se escucha tu silencio cómplice ...\n",
       "1   1331328387328184324       Jajajaja parece chiste, pero es anécdota 😩😂 \n",
       "2   1331328382454345728  @SoyWalterSalas Muchas gracias mi hermano, que...\n",
       "3   1331328379983958020                  @La_Mara_VilIa Bosconia a la 1pm.\n",
       "4   1331328337113993217         Ya tengo mi Internet en mi apartamento 😍🥰.\n",
       "5   1331328329715224581  Ojalá si es así,pueda usted tomar el caso doc,...\n",
       "6   1331328288170631168                 El silvestrismo es una cosa loca 🚩\n",
       "7   1331328285612109826  @fdbedout Como para que deje de hablar paja......\n",
       "8   1331328285305933826  @Karulox Yo te mandaría dm pero no he escuchad...\n",
       "9   1331328272198742016  @amparango AMÉN 🙏 GRACIAS ❤ AMPARO. FELIZ DÍA ...\n",
       "10  1331328270806224903  @Leobonillao @Rniebles2 @alvaror8807 @MZ_ARIAS...\n",
       "11  1331328264175017984   @Notifxcaciones @AgudeloKarelys bebé, le toco!!!\n",
       "12  1331328249172025352  @DJmulett @bejaranocamilo_ @ClaudiaLopez Nada ...\n",
       "13  1331328244021407745  @Majolambragno @OskarKanter La realidad de las...\n",
       "14  1331328243820081152       Hoy siento un odio profundo por los hombres!\n",
       "15  1331328242205257732  Yo lloro porq confecciono horrible y las q con...\n",
       "16  1331328227491672064  Participamos como Academia en el Panel “Empode...\n",
       "17  1331328222244564997                      Tantico ilegal pero me gusta.\n",
       "18  1331328200983580674  Pronta recuperación a la Primera Dama, Maria J...\n",
       "19  1331328184034406402  Le agradezco tanto a esa niña haberse cruzado ...\n",
       "20  1331328183032049672  Estamos tan acostumbrados a las malas personas...\n",
       "21  1331328171480911874          @JorgeMontoyaG1 Es lo mínimo para decirle\n",
       "22  1331328169509580801  @angelamrobledo @ClaudiaLopez Hágame el favor ...\n",
       "23  1331328152619134977  El corazón me lo rompí yo por ilusionarme fáci...\n",
       "24  1331328147845951490  El acuerdo de paz en las regiones ha sido una ...\n",
       "25  1331328145878884355  Ahora no digan que está noticia les causa sorp...\n",
       "26  1331328141307109376                 Jejejeje aún lo creen a uno bruto \n",
       "27  1331328111913406471                 @musartedev Muchas graciaaas!!! 💙🥰\n",
       "28  1331328080691027970  En el Gobierno de Duque y el CD, AL QUE LA HAC...\n",
       "29  1331328074923839489  Y hoy qué tubería están reparando @SomosTriple...\n",
       "30  1331328072369524736               @Fatalmonic2 Sigues siendo muy bella\n",
       "31  1331328058947739652                                 Si a las 2 cosas. \n",
       "32  1331328056951238658               El clima hoy como la alcaldesa.  Fin\n",
       "33  1331328055860736002      CON EL SOCIO...@monovalencia en Neiva, Huila \n",
       "34  1331328052211617792  Si conoces casos de transporte terrestre, vent..."
      ],
      "text/html": "<div>\n<style scoped>\n    .dataframe tbody tr th:only-of-type {\n        vertical-align: middle;\n    }\n\n    .dataframe tbody tr th {\n        vertical-align: top;\n    }\n\n    .dataframe thead th {\n        text-align: right;\n    }\n</style>\n<table border=\"1\" class=\"dataframe\">\n  <thead>\n    <tr style=\"text-align: right;\">\n      <th></th>\n      <th>user_id</th>\n      <th>tweet</th>\n    </tr>\n  </thead>\n  <tbody>\n    <tr>\n      <th>0</th>\n      <td>1331328404721967104</td>\n      <td>@CathyJuvinao se escucha tu silencio cómplice ...</td>\n    </tr>\n    <tr>\n      <th>1</th>\n      <td>1331328387328184324</td>\n      <td>Jajajaja parece chiste, pero es anécdota 😩😂</td>\n    </tr>\n    <tr>\n      <th>2</th>\n      <td>1331328382454345728</td>\n      <td>@SoyWalterSalas Muchas gracias mi hermano, que...</td>\n    </tr>\n    <tr>\n      <th>3</th>\n      <td>1331328379983958020</td>\n      <td>@La_Mara_VilIa Bosconia a la 1pm.</td>\n    </tr>\n    <tr>\n      <th>4</th>\n      <td>1331328337113993217</td>\n      <td>Ya tengo mi Internet en mi apartamento 😍🥰.</td>\n    </tr>\n    <tr>\n      <th>5</th>\n      <td>1331328329715224581</td>\n      <td>Ojalá si es así,pueda usted tomar el caso doc,...</td>\n    </tr>\n    <tr>\n      <th>6</th>\n      <td>1331328288170631168</td>\n      <td>El silvestrismo es una cosa loca 🚩</td>\n    </tr>\n    <tr>\n      <th>7</th>\n      <td>1331328285612109826</td>\n      <td>@fdbedout Como para que deje de hablar paja......</td>\n    </tr>\n    <tr>\n      <th>8</th>\n      <td>1331328285305933826</td>\n      <td>@Karulox Yo te mandaría dm pero no he escuchad...</td>\n    </tr>\n    <tr>\n      <th>9</th>\n      <td>1331328272198742016</td>\n      <td>@amparango AMÉN 🙏 GRACIAS ❤ AMPARO. FELIZ DÍA ...</td>\n    </tr>\n    <tr>\n      <th>10</th>\n      <td>1331328270806224903</td>\n      <td>@Leobonillao @Rniebles2 @alvaror8807 @MZ_ARIAS...</td>\n    </tr>\n    <tr>\n      <th>11</th>\n      <td>1331328264175017984</td>\n      <td>@Notifxcaciones @AgudeloKarelys bebé, le toco!!!</td>\n    </tr>\n    <tr>\n      <th>12</th>\n      <td>1331328249172025352</td>\n      <td>@DJmulett @bejaranocamilo_ @ClaudiaLopez Nada ...</td>\n    </tr>\n    <tr>\n      <th>13</th>\n      <td>1331328244021407745</td>\n      <td>@Majolambragno @OskarKanter La realidad de las...</td>\n    </tr>\n    <tr>\n      <th>14</th>\n      <td>1331328243820081152</td>\n      <td>Hoy siento un odio profundo por los hombres!</td>\n    </tr>\n    <tr>\n      <th>15</th>\n      <td>1331328242205257732</td>\n      <td>Yo lloro porq confecciono horrible y las q con...</td>\n    </tr>\n    <tr>\n      <th>16</th>\n      <td>1331328227491672064</td>\n      <td>Participamos como Academia en el Panel “Empode...</td>\n    </tr>\n    <tr>\n      <th>17</th>\n      <td>1331328222244564997</td>\n      <td>Tantico ilegal pero me gusta.</td>\n    </tr>\n    <tr>\n      <th>18</th>\n      <td>1331328200983580674</td>\n      <td>Pronta recuperación a la Primera Dama, Maria J...</td>\n    </tr>\n    <tr>\n      <th>19</th>\n      <td>1331328184034406402</td>\n      <td>Le agradezco tanto a esa niña haberse cruzado ...</td>\n    </tr>\n    <tr>\n      <th>20</th>\n      <td>1331328183032049672</td>\n      <td>Estamos tan acostumbrados a las malas personas...</td>\n    </tr>\n    <tr>\n      <th>21</th>\n      <td>1331328171480911874</td>\n      <td>@JorgeMontoyaG1 Es lo mínimo para decirle</td>\n    </tr>\n    <tr>\n      <th>22</th>\n      <td>1331328169509580801</td>\n      <td>@angelamrobledo @ClaudiaLopez Hágame el favor ...</td>\n    </tr>\n    <tr>\n      <th>23</th>\n      <td>1331328152619134977</td>\n      <td>El corazón me lo rompí yo por ilusionarme fáci...</td>\n    </tr>\n    <tr>\n      <th>24</th>\n      <td>1331328147845951490</td>\n      <td>El acuerdo de paz en las regiones ha sido una ...</td>\n    </tr>\n    <tr>\n      <th>25</th>\n      <td>1331328145878884355</td>\n      <td>Ahora no digan que está noticia les causa sorp...</td>\n    </tr>\n    <tr>\n      <th>26</th>\n      <td>1331328141307109376</td>\n      <td>Jejejeje aún lo creen a uno bruto</td>\n    </tr>\n    <tr>\n      <th>27</th>\n      <td>1331328111913406471</td>\n      <td>@musartedev Muchas graciaaas!!! 💙🥰</td>\n    </tr>\n    <tr>\n      <th>28</th>\n      <td>1331328080691027970</td>\n      <td>En el Gobierno de Duque y el CD, AL QUE LA HAC...</td>\n    </tr>\n    <tr>\n      <th>29</th>\n      <td>1331328074923839489</td>\n      <td>Y hoy qué tubería están reparando @SomosTriple...</td>\n    </tr>\n    <tr>\n      <th>30</th>\n      <td>1331328072369524736</td>\n      <td>@Fatalmonic2 Sigues siendo muy bella</td>\n    </tr>\n    <tr>\n      <th>31</th>\n      <td>1331328058947739652</td>\n      <td>Si a las 2 cosas.</td>\n    </tr>\n    <tr>\n      <th>32</th>\n      <td>1331328056951238658</td>\n      <td>El clima hoy como la alcaldesa.  Fin</td>\n    </tr>\n    <tr>\n      <th>33</th>\n      <td>1331328055860736002</td>\n      <td>CON EL SOCIO...@monovalencia en Neiva, Huila</td>\n    </tr>\n    <tr>\n      <th>34</th>\n      <td>1331328052211617792</td>\n      <td>Si conoces casos de transporte terrestre, vent...</td>\n    </tr>\n  </tbody>\n</table>\n</div>"
     },
     "metadata": {},
     "execution_count": 38
    }
   ],
   "source": [
    "df"
   ]
  },
  {
   "cell_type": "code",
   "execution_count": 39,
   "metadata": {},
   "outputs": [],
   "source": [
    "x = translate(df['tweet'].to_list())"
   ]
  },
  {
   "cell_type": "code",
   "execution_count": 40,
   "metadata": {},
   "outputs": [],
   "source": [
    "y = get_polarity(x)"
   ]
  },
  {
   "cell_type": "code",
   "execution_count": 41,
   "metadata": {},
   "outputs": [
    {
     "output_type": "stream",
     "name": "stdout",
     "text": [
      "[0.0, 0.2, 0.5675, 0.0, 0.0, 0.0, -0.6, 0.0, 0.0, 0.7, 0.0, 0.0, 0.0, 0.0, 0.0, -1.0, 0.011111111111111112, -0.5, 0.625, 0.009090909090909094, -0.07499999999999996, 0.0, 0.7, 0.4041666666666667, 0.03333333333333333, 0.875, 0.0, 0.5078125, 0.0, -0.0625, 1.0, 0.0, 0.0, 0.0, -0.125]\n"
     ]
    }
   ],
   "source": [
    "print(y)"
   ]
  },
  {
   "cell_type": "code",
   "execution_count": 42,
   "metadata": {},
   "outputs": [],
   "source": [
    "df['polarity'] = y"
   ]
  },
  {
   "cell_type": "code",
   "execution_count": 43,
   "metadata": {},
   "outputs": [
    {
     "output_type": "execute_result",
     "data": {
      "text/plain": [
       "                user_id                                              tweet  \\\n",
       "0   1331328404721967104  @CathyJuvinao se escucha tu silencio cómplice ...   \n",
       "1   1331328387328184324       Jajajaja parece chiste, pero es anécdota 😩😂    \n",
       "2   1331328382454345728  @SoyWalterSalas Muchas gracias mi hermano, que...   \n",
       "3   1331328379983958020                  @La_Mara_VilIa Bosconia a la 1pm.   \n",
       "4   1331328337113993217         Ya tengo mi Internet en mi apartamento 😍🥰.   \n",
       "5   1331328329715224581  Ojalá si es así,pueda usted tomar el caso doc,...   \n",
       "6   1331328288170631168                 El silvestrismo es una cosa loca 🚩   \n",
       "7   1331328285612109826  @fdbedout Como para que deje de hablar paja......   \n",
       "8   1331328285305933826  @Karulox Yo te mandaría dm pero no he escuchad...   \n",
       "9   1331328272198742016  @amparango AMÉN 🙏 GRACIAS ❤ AMPARO. FELIZ DÍA ...   \n",
       "10  1331328270806224903  @Leobonillao @Rniebles2 @alvaror8807 @MZ_ARIAS...   \n",
       "11  1331328264175017984   @Notifxcaciones @AgudeloKarelys bebé, le toco!!!   \n",
       "12  1331328249172025352  @DJmulett @bejaranocamilo_ @ClaudiaLopez Nada ...   \n",
       "13  1331328244021407745  @Majolambragno @OskarKanter La realidad de las...   \n",
       "14  1331328243820081152       Hoy siento un odio profundo por los hombres!   \n",
       "15  1331328242205257732  Yo lloro porq confecciono horrible y las q con...   \n",
       "16  1331328227491672064  Participamos como Academia en el Panel “Empode...   \n",
       "17  1331328222244564997                      Tantico ilegal pero me gusta.   \n",
       "18  1331328200983580674  Pronta recuperación a la Primera Dama, Maria J...   \n",
       "19  1331328184034406402  Le agradezco tanto a esa niña haberse cruzado ...   \n",
       "20  1331328183032049672  Estamos tan acostumbrados a las malas personas...   \n",
       "21  1331328171480911874          @JorgeMontoyaG1 Es lo mínimo para decirle   \n",
       "22  1331328169509580801  @angelamrobledo @ClaudiaLopez Hágame el favor ...   \n",
       "23  1331328152619134977  El corazón me lo rompí yo por ilusionarme fáci...   \n",
       "24  1331328147845951490  El acuerdo de paz en las regiones ha sido una ...   \n",
       "25  1331328145878884355  Ahora no digan que está noticia les causa sorp...   \n",
       "26  1331328141307109376                 Jejejeje aún lo creen a uno bruto    \n",
       "27  1331328111913406471                 @musartedev Muchas graciaaas!!! 💙🥰   \n",
       "28  1331328080691027970  En el Gobierno de Duque y el CD, AL QUE LA HAC...   \n",
       "29  1331328074923839489  Y hoy qué tubería están reparando @SomosTriple...   \n",
       "30  1331328072369524736               @Fatalmonic2 Sigues siendo muy bella   \n",
       "31  1331328058947739652                                 Si a las 2 cosas.    \n",
       "32  1331328056951238658               El clima hoy como la alcaldesa.  Fin   \n",
       "33  1331328055860736002      CON EL SOCIO...@monovalencia en Neiva, Huila    \n",
       "34  1331328052211617792  Si conoces casos de transporte terrestre, vent...   \n",
       "\n",
       "    polarity  \n",
       "0   0.000000  \n",
       "1   0.200000  \n",
       "2   0.567500  \n",
       "3   0.000000  \n",
       "4   0.000000  \n",
       "5   0.000000  \n",
       "6  -0.600000  \n",
       "7   0.000000  \n",
       "8   0.000000  \n",
       "9   0.700000  \n",
       "10  0.000000  \n",
       "11  0.000000  \n",
       "12  0.000000  \n",
       "13  0.000000  \n",
       "14  0.000000  \n",
       "15 -1.000000  \n",
       "16  0.011111  \n",
       "17 -0.500000  \n",
       "18  0.625000  \n",
       "19  0.009091  \n",
       "20 -0.075000  \n",
       "21  0.000000  \n",
       "22  0.700000  \n",
       "23  0.404167  \n",
       "24  0.033333  \n",
       "25  0.875000  \n",
       "26  0.000000  \n",
       "27  0.507812  \n",
       "28  0.000000  \n",
       "29 -0.062500  \n",
       "30  1.000000  \n",
       "31  0.000000  \n",
       "32  0.000000  \n",
       "33  0.000000  \n",
       "34 -0.125000  "
      ],
      "text/html": "<div>\n<style scoped>\n    .dataframe tbody tr th:only-of-type {\n        vertical-align: middle;\n    }\n\n    .dataframe tbody tr th {\n        vertical-align: top;\n    }\n\n    .dataframe thead th {\n        text-align: right;\n    }\n</style>\n<table border=\"1\" class=\"dataframe\">\n  <thead>\n    <tr style=\"text-align: right;\">\n      <th></th>\n      <th>user_id</th>\n      <th>tweet</th>\n      <th>polarity</th>\n    </tr>\n  </thead>\n  <tbody>\n    <tr>\n      <th>0</th>\n      <td>1331328404721967104</td>\n      <td>@CathyJuvinao se escucha tu silencio cómplice ...</td>\n      <td>0.000000</td>\n    </tr>\n    <tr>\n      <th>1</th>\n      <td>1331328387328184324</td>\n      <td>Jajajaja parece chiste, pero es anécdota 😩😂</td>\n      <td>0.200000</td>\n    </tr>\n    <tr>\n      <th>2</th>\n      <td>1331328382454345728</td>\n      <td>@SoyWalterSalas Muchas gracias mi hermano, que...</td>\n      <td>0.567500</td>\n    </tr>\n    <tr>\n      <th>3</th>\n      <td>1331328379983958020</td>\n      <td>@La_Mara_VilIa Bosconia a la 1pm.</td>\n      <td>0.000000</td>\n    </tr>\n    <tr>\n      <th>4</th>\n      <td>1331328337113993217</td>\n      <td>Ya tengo mi Internet en mi apartamento 😍🥰.</td>\n      <td>0.000000</td>\n    </tr>\n    <tr>\n      <th>5</th>\n      <td>1331328329715224581</td>\n      <td>Ojalá si es así,pueda usted tomar el caso doc,...</td>\n      <td>0.000000</td>\n    </tr>\n    <tr>\n      <th>6</th>\n      <td>1331328288170631168</td>\n      <td>El silvestrismo es una cosa loca 🚩</td>\n      <td>-0.600000</td>\n    </tr>\n    <tr>\n      <th>7</th>\n      <td>1331328285612109826</td>\n      <td>@fdbedout Como para que deje de hablar paja......</td>\n      <td>0.000000</td>\n    </tr>\n    <tr>\n      <th>8</th>\n      <td>1331328285305933826</td>\n      <td>@Karulox Yo te mandaría dm pero no he escuchad...</td>\n      <td>0.000000</td>\n    </tr>\n    <tr>\n      <th>9</th>\n      <td>1331328272198742016</td>\n      <td>@amparango AMÉN 🙏 GRACIAS ❤ AMPARO. FELIZ DÍA ...</td>\n      <td>0.700000</td>\n    </tr>\n    <tr>\n      <th>10</th>\n      <td>1331328270806224903</td>\n      <td>@Leobonillao @Rniebles2 @alvaror8807 @MZ_ARIAS...</td>\n      <td>0.000000</td>\n    </tr>\n    <tr>\n      <th>11</th>\n      <td>1331328264175017984</td>\n      <td>@Notifxcaciones @AgudeloKarelys bebé, le toco!!!</td>\n      <td>0.000000</td>\n    </tr>\n    <tr>\n      <th>12</th>\n      <td>1331328249172025352</td>\n      <td>@DJmulett @bejaranocamilo_ @ClaudiaLopez Nada ...</td>\n      <td>0.000000</td>\n    </tr>\n    <tr>\n      <th>13</th>\n      <td>1331328244021407745</td>\n      <td>@Majolambragno @OskarKanter La realidad de las...</td>\n      <td>0.000000</td>\n    </tr>\n    <tr>\n      <th>14</th>\n      <td>1331328243820081152</td>\n      <td>Hoy siento un odio profundo por los hombres!</td>\n      <td>0.000000</td>\n    </tr>\n    <tr>\n      <th>15</th>\n      <td>1331328242205257732</td>\n      <td>Yo lloro porq confecciono horrible y las q con...</td>\n      <td>-1.000000</td>\n    </tr>\n    <tr>\n      <th>16</th>\n      <td>1331328227491672064</td>\n      <td>Participamos como Academia en el Panel “Empode...</td>\n      <td>0.011111</td>\n    </tr>\n    <tr>\n      <th>17</th>\n      <td>1331328222244564997</td>\n      <td>Tantico ilegal pero me gusta.</td>\n      <td>-0.500000</td>\n    </tr>\n    <tr>\n      <th>18</th>\n      <td>1331328200983580674</td>\n      <td>Pronta recuperación a la Primera Dama, Maria J...</td>\n      <td>0.625000</td>\n    </tr>\n    <tr>\n      <th>19</th>\n      <td>1331328184034406402</td>\n      <td>Le agradezco tanto a esa niña haberse cruzado ...</td>\n      <td>0.009091</td>\n    </tr>\n    <tr>\n      <th>20</th>\n      <td>1331328183032049672</td>\n      <td>Estamos tan acostumbrados a las malas personas...</td>\n      <td>-0.075000</td>\n    </tr>\n    <tr>\n      <th>21</th>\n      <td>1331328171480911874</td>\n      <td>@JorgeMontoyaG1 Es lo mínimo para decirle</td>\n      <td>0.000000</td>\n    </tr>\n    <tr>\n      <th>22</th>\n      <td>1331328169509580801</td>\n      <td>@angelamrobledo @ClaudiaLopez Hágame el favor ...</td>\n      <td>0.700000</td>\n    </tr>\n    <tr>\n      <th>23</th>\n      <td>1331328152619134977</td>\n      <td>El corazón me lo rompí yo por ilusionarme fáci...</td>\n      <td>0.404167</td>\n    </tr>\n    <tr>\n      <th>24</th>\n      <td>1331328147845951490</td>\n      <td>El acuerdo de paz en las regiones ha sido una ...</td>\n      <td>0.033333</td>\n    </tr>\n    <tr>\n      <th>25</th>\n      <td>1331328145878884355</td>\n      <td>Ahora no digan que está noticia les causa sorp...</td>\n      <td>0.875000</td>\n    </tr>\n    <tr>\n      <th>26</th>\n      <td>1331328141307109376</td>\n      <td>Jejejeje aún lo creen a uno bruto</td>\n      <td>0.000000</td>\n    </tr>\n    <tr>\n      <th>27</th>\n      <td>1331328111913406471</td>\n      <td>@musartedev Muchas graciaaas!!! 💙🥰</td>\n      <td>0.507812</td>\n    </tr>\n    <tr>\n      <th>28</th>\n      <td>1331328080691027970</td>\n      <td>En el Gobierno de Duque y el CD, AL QUE LA HAC...</td>\n      <td>0.000000</td>\n    </tr>\n    <tr>\n      <th>29</th>\n      <td>1331328074923839489</td>\n      <td>Y hoy qué tubería están reparando @SomosTriple...</td>\n      <td>-0.062500</td>\n    </tr>\n    <tr>\n      <th>30</th>\n      <td>1331328072369524736</td>\n      <td>@Fatalmonic2 Sigues siendo muy bella</td>\n      <td>1.000000</td>\n    </tr>\n    <tr>\n      <th>31</th>\n      <td>1331328058947739652</td>\n      <td>Si a las 2 cosas.</td>\n      <td>0.000000</td>\n    </tr>\n    <tr>\n      <th>32</th>\n      <td>1331328056951238658</td>\n      <td>El clima hoy como la alcaldesa.  Fin</td>\n      <td>0.000000</td>\n    </tr>\n    <tr>\n      <th>33</th>\n      <td>1331328055860736002</td>\n      <td>CON EL SOCIO...@monovalencia en Neiva, Huila</td>\n      <td>0.000000</td>\n    </tr>\n    <tr>\n      <th>34</th>\n      <td>1331328052211617792</td>\n      <td>Si conoces casos de transporte terrestre, vent...</td>\n      <td>-0.125000</td>\n    </tr>\n  </tbody>\n</table>\n</div>"
     },
     "metadata": {},
     "execution_count": 43
    }
   ],
   "source": [
    "df"
   ]
  }
 ]
}