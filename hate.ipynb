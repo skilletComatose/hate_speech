{
 "metadata": {
  "language_info": {
   "codemirror_mode": {
    "name": "ipython",
    "version": 3
   },
   "file_extension": ".py",
   "mimetype": "text/x-python",
   "name": "python",
   "nbconvert_exporter": "python",
   "pygments_lexer": "ipython3",
   "version": "3.8.5-final"
  },
  "orig_nbformat": 2,
  "kernelspec": {
   "name": "python3",
   "display_name": "Python 3.8.5 64-bit",
   "metadata": {
    "interpreter": {
     "hash": "31f2aee4e71d21fbe5cf8b01ff0e069b9275f58929596ceb00d14d90e3e16cd6"
    }
   }
  }
 },
 "nbformat": 4,
 "nbformat_minor": 2,
 "cells": [
  {
   "cell_type": "code",
   "execution_count": 157,
   "metadata": {},
   "outputs": [
    {
     "output_type": "stream",
     "name": "stderr",
     "text": [
      "[nltk_data] Downloading package stopwords to\n[nltk_data]     /home/skillet/nltk_data...\n[nltk_data]   Package stopwords is already up-to-date!\n"
     ]
    }
   ],
   "source": [
    "import pandas as pd\n",
    "import nltk\n",
    "import re\n",
    "nltk.download('stopwords')\n",
    "from textblob import TextBlob, Word, Blobber\n",
    "from utils.text_analysis import TextAnalysis\n",
    "from sklearn.feature_extraction.text import CountVectorizer\n",
    "from sklearn.linear_model import LogisticRegression \n",
    "from sklearn.model_selection import train_test_split\n",
    "from imblearn.over_sampling import RandomOverSampler\n",
    "from sklearn.metrics import confusion_matrix\n",
    "from sklearn.metrics import accuracy_score, recall_score, f1_score, precision_score\n",
    "from sklearn.metrics import classification_report\n",
    "from sklearn.ensemble import RandomForestClassifier\n",
    "from sklearn.model_selection import cross_val_score\n",
    "import numpy as np\n",
    "from collections import Counter\n",
    "def clean_text(text):\n",
    "    text = re.sub(r'^RT[\\s]+','',text)\n",
    "    text = re.sub(r'https?:\\/\\/.*[\\r\\n]*','',text)\n",
    "    text = re.sub(r'#','',text)\n",
    "    text = re.sub(r'@[A-Za-z0-9]+','',text)\n",
    "    return text\n",
    "\n",
    "def change(x):\n",
    "    if x > 0:\n",
    "        return 'P'\n",
    "    elif x == 0:\n",
    "        return 'NEU'\n",
    "    else:\n",
    "        return 'N'\n"
   ]
  },
  {
   "cell_type": "code",
   "execution_count": 158,
   "metadata": {},
   "outputs": [],
   "source": [
    "df = pd.read_csv('data.csv')"
   ]
  },
  {
   "cell_type": "code",
   "execution_count": 159,
   "metadata": {},
   "outputs": [
    {
     "output_type": "execute_result",
     "data": {
      "text/plain": [
       "                  user_id                                              tweet\n",
       "0     1332502668833599488  @GKeile Aft #Russia got #Trump electd, #Republ...\n",
       "1     1332502657689284610      #Pennsylvania citizens SPEAK OUT! #Trump won \n",
       "2     1332502614685040640  @milaura105 @Laconic_doc @mrddmia @Cernovich @...\n",
       "3     1332502588877488128  Trump is the new “Nigerian Prince” #inbreds #T...\n",
       "4     1332502579738079233  I'm curious how much @realDonaldTrump paid for...\n",
       "...                   ...                                                ...\n",
       "7218  1332250299243913216  #Trump: United States President Donald Trump s...\n",
       "7219  1332250299189358593  @realDonaldTrump Biden did not *over perform.*...\n",
       "7220  1332250250543853568  Pa. Commonwealth Court orders halt to certific...\n",
       "7221  1332250238166458370  Denial, and Resignation, From Trump and a Hand...\n",
       "7222  1332250161930768384  @Acosta #Trump is lying again.He has not given...\n",
       "\n",
       "[7223 rows x 2 columns]"
      ],
      "text/html": "<div>\n<style scoped>\n    .dataframe tbody tr th:only-of-type {\n        vertical-align: middle;\n    }\n\n    .dataframe tbody tr th {\n        vertical-align: top;\n    }\n\n    .dataframe thead th {\n        text-align: right;\n    }\n</style>\n<table border=\"1\" class=\"dataframe\">\n  <thead>\n    <tr style=\"text-align: right;\">\n      <th></th>\n      <th>user_id</th>\n      <th>tweet</th>\n    </tr>\n  </thead>\n  <tbody>\n    <tr>\n      <th>0</th>\n      <td>1332502668833599488</td>\n      <td>@GKeile Aft #Russia got #Trump electd, #Republ...</td>\n    </tr>\n    <tr>\n      <th>1</th>\n      <td>1332502657689284610</td>\n      <td>#Pennsylvania citizens SPEAK OUT! #Trump won</td>\n    </tr>\n    <tr>\n      <th>2</th>\n      <td>1332502614685040640</td>\n      <td>@milaura105 @Laconic_doc @mrddmia @Cernovich @...</td>\n    </tr>\n    <tr>\n      <th>3</th>\n      <td>1332502588877488128</td>\n      <td>Trump is the new “Nigerian Prince” #inbreds #T...</td>\n    </tr>\n    <tr>\n      <th>4</th>\n      <td>1332502579738079233</td>\n      <td>I'm curious how much @realDonaldTrump paid for...</td>\n    </tr>\n    <tr>\n      <th>...</th>\n      <td>...</td>\n      <td>...</td>\n    </tr>\n    <tr>\n      <th>7218</th>\n      <td>1332250299243913216</td>\n      <td>#Trump: United States President Donald Trump s...</td>\n    </tr>\n    <tr>\n      <th>7219</th>\n      <td>1332250299189358593</td>\n      <td>@realDonaldTrump Biden did not *over perform.*...</td>\n    </tr>\n    <tr>\n      <th>7220</th>\n      <td>1332250250543853568</td>\n      <td>Pa. Commonwealth Court orders halt to certific...</td>\n    </tr>\n    <tr>\n      <th>7221</th>\n      <td>1332250238166458370</td>\n      <td>Denial, and Resignation, From Trump and a Hand...</td>\n    </tr>\n    <tr>\n      <th>7222</th>\n      <td>1332250161930768384</td>\n      <td>@Acosta #Trump is lying again.He has not given...</td>\n    </tr>\n  </tbody>\n</table>\n<p>7223 rows × 2 columns</p>\n</div>"
     },
     "metadata": {},
     "execution_count": 159
    }
   ],
   "source": [
    "df"
   ]
  },
  {
   "source": [
    "# cleaning data and getting polarity"
   ],
   "cell_type": "markdown",
   "metadata": {}
  },
  {
   "cell_type": "code",
   "execution_count": 160,
   "metadata": {},
   "outputs": [],
   "source": [
    "df['tweet'] =  df['tweet'].apply(clean_text)\n",
    "df['polarity'] = df['tweet'].apply(lambda x: TextBlob(x).sentiment[0])\n",
    "df['polarity'] = df['polarity'].apply(change)"
   ]
  },
  {
   "cell_type": "code",
   "execution_count": 161,
   "metadata": {},
   "outputs": [
    {
     "output_type": "execute_result",
     "data": {
      "text/plain": [
       "                  user_id                                              tweet  \\\n",
       "0     1332502668833599488   Aft Russia got Trump electd, Republicans n sh...   \n",
       "1     1332502657689284610        Pennsylvania citizens SPEAK OUT! Trump won    \n",
       "2     1332502614685040640   _doc    Every court case through Trump cases ...   \n",
       "3     1332502588877488128  Trump is the new “Nigerian Prince” inbreds Trump    \n",
       "4     1332502579738079233  I'm curious how much  paid for each of the ext...   \n",
       "...                   ...                                                ...   \n",
       "7218  1332250299243913216  Trump: United States President Donald Trump sa...   \n",
       "7219  1332250299189358593   Biden did not *over perform.*Trump *UNDER* pe...   \n",
       "7220  1332250250543853568  Pa. Commonwealth Court orders halt to certific...   \n",
       "7221  1332250238166458370  Denial, and Resignation, From Trump and a Hand...   \n",
       "7222  1332250161930768384   Trump is lying again.He has not given evidenc...   \n",
       "\n",
       "     polarity  \n",
       "0         NEU  \n",
       "1         NEU  \n",
       "2         NEU  \n",
       "3           P  \n",
       "4           P  \n",
       "...       ...  \n",
       "7218      NEU  \n",
       "7219      NEU  \n",
       "7220        N  \n",
       "7221        P  \n",
       "7222      NEU  \n",
       "\n",
       "[7223 rows x 3 columns]"
      ],
      "text/html": "<div>\n<style scoped>\n    .dataframe tbody tr th:only-of-type {\n        vertical-align: middle;\n    }\n\n    .dataframe tbody tr th {\n        vertical-align: top;\n    }\n\n    .dataframe thead th {\n        text-align: right;\n    }\n</style>\n<table border=\"1\" class=\"dataframe\">\n  <thead>\n    <tr style=\"text-align: right;\">\n      <th></th>\n      <th>user_id</th>\n      <th>tweet</th>\n      <th>polarity</th>\n    </tr>\n  </thead>\n  <tbody>\n    <tr>\n      <th>0</th>\n      <td>1332502668833599488</td>\n      <td>Aft Russia got Trump electd, Republicans n sh...</td>\n      <td>NEU</td>\n    </tr>\n    <tr>\n      <th>1</th>\n      <td>1332502657689284610</td>\n      <td>Pennsylvania citizens SPEAK OUT! Trump won</td>\n      <td>NEU</td>\n    </tr>\n    <tr>\n      <th>2</th>\n      <td>1332502614685040640</td>\n      <td>_doc    Every court case through Trump cases ...</td>\n      <td>NEU</td>\n    </tr>\n    <tr>\n      <th>3</th>\n      <td>1332502588877488128</td>\n      <td>Trump is the new “Nigerian Prince” inbreds Trump</td>\n      <td>P</td>\n    </tr>\n    <tr>\n      <th>4</th>\n      <td>1332502579738079233</td>\n      <td>I'm curious how much  paid for each of the ext...</td>\n      <td>P</td>\n    </tr>\n    <tr>\n      <th>...</th>\n      <td>...</td>\n      <td>...</td>\n      <td>...</td>\n    </tr>\n    <tr>\n      <th>7218</th>\n      <td>1332250299243913216</td>\n      <td>Trump: United States President Donald Trump sa...</td>\n      <td>NEU</td>\n    </tr>\n    <tr>\n      <th>7219</th>\n      <td>1332250299189358593</td>\n      <td>Biden did not *over perform.*Trump *UNDER* pe...</td>\n      <td>NEU</td>\n    </tr>\n    <tr>\n      <th>7220</th>\n      <td>1332250250543853568</td>\n      <td>Pa. Commonwealth Court orders halt to certific...</td>\n      <td>N</td>\n    </tr>\n    <tr>\n      <th>7221</th>\n      <td>1332250238166458370</td>\n      <td>Denial, and Resignation, From Trump and a Hand...</td>\n      <td>P</td>\n    </tr>\n    <tr>\n      <th>7222</th>\n      <td>1332250161930768384</td>\n      <td>Trump is lying again.He has not given evidenc...</td>\n      <td>NEU</td>\n    </tr>\n  </tbody>\n</table>\n<p>7223 rows × 3 columns</p>\n</div>"
     },
     "metadata": {},
     "execution_count": 161
    }
   ],
   "source": [
    "df"
   ]
  },
  {
   "cell_type": "code",
   "execution_count": 162,
   "metadata": {},
   "outputs": [],
   "source": [
    "x = df['tweet']\n",
    "y = df['polarity'].to_list()"
   ]
  },
  {
   "cell_type": "code",
   "execution_count": 163,
   "metadata": {
    "tags": []
   },
   "outputs": [
    {
     "output_type": "stream",
     "name": "stdout",
     "text": [
      "Replica y_train: [('N', 1590), ('NEU', 3398), ('P', 2235)]\n"
     ]
    }
   ],
   "source": [
    "print('Replica y_train:', sorted(Counter(y).items()))"
   ]
  },
  {
   "cell_type": "code",
   "execution_count": 164,
   "metadata": {},
   "outputs": [],
   "source": [
    "x_train, x_test, y_train, y_test = train_test_split(x, y, test_size=0.30, random_state=8675309)"
   ]
  },
  {
   "cell_type": "code",
   "execution_count": 165,
   "metadata": {},
   "outputs": [
    {
     "output_type": "stream",
     "name": "stdout",
     "text": [
      "Replica train: [('N', 1131), ('NEU', 2381), ('P', 1544)], size 5056\n",
      "Replica test: [('N', 459), ('NEU', 1017), ('P', 691)], size 2167\n"
     ]
    }
   ],
   "source": [
    "print('Replica train: {0}, size {1}'.format(sorted(Counter(y_train).items()), len(y_train)))\n",
    "print('Replica test: {0}, size {1}'.format(sorted(Counter(y_test).items()), len(y_test)))"
   ]
  },
  {
   "source": [
    "# Feature in Bag of words"
   ],
   "cell_type": "markdown",
   "metadata": {}
  },
  {
   "cell_type": "code",
   "execution_count": 166,
   "metadata": {},
   "outputs": [],
   "source": [
    "vectorizer = CountVectorizer(max_features=5000, min_df=5, max_df=0.7)\n",
    "\n",
    "X = vectorizer.fit_transform(df['tweet']).toarray()\n",
    "tfidfconverter = TfidfTransformer()\n",
    "X = tfidfconverter.fit_transform(X).toarray()"
   ]
  },
  {
   "cell_type": "code",
   "execution_count": 167,
   "metadata": {},
   "outputs": [],
   "source": [
    "X_train, X_test, y_train, y_test = train_test_split(X, y, test_size=0.3, random_state=675309)"
   ]
  },
  {
   "cell_type": "code",
   "execution_count": 168,
   "metadata": {},
   "outputs": [
    {
     "output_type": "stream",
     "name": "stdout",
     "text": [
      "Replica train: [('N', 1112), ('NEU', 2371), ('P', 1573)], size 5056\nReplica test: [('N', 478), ('NEU', 1027), ('P', 662)], size 2167\n"
     ]
    }
   ],
   "source": [
    "print('Replica train: {0}, size {1}'.format(sorted(Counter(y_train).items()), len(y_train)))\n",
    "print('Replica test: {0}, size {1}'.format(sorted(Counter(y_test).items()), len(y_test)))"
   ]
  },
  {
   "source": [
    "# Logistic Regression"
   ],
   "cell_type": "markdown",
   "metadata": {}
  },
  {
   "cell_type": "code",
   "execution_count": 169,
   "metadata": {},
   "outputs": [],
   "source": [
    "classifier = LogisticRegression(C=10, solver='lbfgs', multi_class='multinomial',max_iter=1000) \n",
    "classifier.fit(X_train, y_train)\n",
    "y_pred = classifier.predict(X_test)"
   ]
  },
  {
   "cell_type": "code",
   "execution_count": 170,
   "metadata": {},
   "outputs": [
    {
     "output_type": "stream",
     "name": "stdout",
     "text": [
      "\nConfusion Matrix\n[[297 138  43]\n [ 37 945  45]\n [ 30 127 505]]\n"
     ]
    }
   ],
   "source": [
    "print('\\nConfusion Matrix')\n",
    "print(confusion_matrix(y_test, y_pred))"
   ]
  },
  {
   "cell_type": "code",
   "execution_count": 171,
   "metadata": {},
   "outputs": [
    {
     "output_type": "stream",
     "name": "stdout",
     "text": [
      "\n",
      "Clasification Report\n",
      "              precision    recall  f1-score   support\n",
      "\n",
      "           N       0.82      0.62      0.71       478\n",
      "         NEU       0.78      0.92      0.84      1027\n",
      "           P       0.85      0.76      0.80       662\n",
      "\n",
      "    accuracy                           0.81      2167\n",
      "   macro avg       0.82      0.77      0.79      2167\n",
      "weighted avg       0.81      0.81      0.80      2167\n",
      "\n"
     ]
    }
   ],
   "source": [
    "print('\\nClasification Report')\n",
    "print(classification_report(y_test, y_pred))\n",
    "cv_score = np.mean(cross_val_score(classifier, x_train,y_train, cv=3, scoring='accuracy'))"
   ]
  },
  {
   "cell_type": "code",
   "execution_count": 172,
   "metadata": {},
   "outputs": [
    {
     "output_type": "stream",
     "name": "stdout",
     "text": [
      "Accuracy: 80.0%\nRecall: 75.0%\nPrecision: 83.0%\nF1: 80.0%\n"
     ]
    }
   ],
   "source": [
    "accuracy = accuracy_score(y_test2, y_pred2) #% de veces que el modelo acerta\n",
    "recall = recall_score(y_test2, y_pred2, average='macro')# el modelo es capar de identificar un 95%\n",
    "precision = precision_score(y_test2, y_pred2, average='weighted') # el modelo se equivoca un 5% en las veces que hace la predicción \n",
    "f1 = f1_score(y_test2, y_pred2, average='weighted')\n",
    "print('Accuracy: {}%'.format(round(accuracy, 2)*100))\n",
    "print('Recall: {}%'.format(round(recall, 2)*100))\n",
    "print('Precision: {}%'.format(round(precision, 2)*100))\n",
    "print('F1: {}%'.format(round(f1, 2)*100))"
   ]
  },
  {
   "source": [
    "# Random Forest"
   ],
   "cell_type": "markdown",
   "metadata": {}
  },
  {
   "cell_type": "code",
   "execution_count": 173,
   "metadata": {},
   "outputs": [],
   "source": [
    "vectorizer = CountVectorizer(max_features=5000, min_df=5, max_df=0.7)\n",
    "\n",
    "X = vectorizer.fit_transform(df['tweet']).toarray()\n",
    "tfidfconverter = TfidfTransformer()\n",
    "X = tfidfconverter.fit_transform(X).toarray()"
   ]
  },
  {
   "cell_type": "code",
   "execution_count": 174,
   "metadata": {},
   "outputs": [],
   "source": [
    "X_train2, X_test2, y_train2, y_test2 = train_test_split(X, y, test_size=0.3, random_state=675309)"
   ]
  },
  {
   "cell_type": "code",
   "execution_count": 185,
   "metadata": {},
   "outputs": [],
   "source": [
    "classifier = RandomForestClassifier(n_estimators=25, random_state=675309)\n",
    "classifier.fit(X_train2, y_train2) \n",
    "y_pred2 = classifier.predict(X_test2)"
   ]
  },
  {
   "cell_type": "code",
   "execution_count": 186,
   "metadata": {},
   "outputs": [
    {
     "output_type": "stream",
     "name": "stdout",
     "text": [
      "\nConfution matrix : \n [[ 275  162   41]\n [  10 1001   16]\n [  20  173  469]]\n---------------------------------------------------------------\n\n\nClasification report\n  \n               precision    recall  f1-score   support\n\n           N       0.90      0.58      0.70       478\n         NEU       0.75      0.97      0.85      1027\n           P       0.89      0.71      0.79       662\n\n    accuracy                           0.81      2167\n   macro avg       0.85      0.75      0.78      2167\nweighted avg       0.83      0.81      0.80      2167\n\n"
     ]
    }
   ],
   "source": [
    "print('\\nConfution matrix : \\n',confusion_matrix(y_test2,y_pred2))\n",
    "print('---------------------------------------------------------------')\n",
    "print('\\n\\nClasification report\\n ','\\n',classification_report(y_test2,y_pred2))"
   ]
  },
  {
   "cell_type": "code",
   "execution_count": 187,
   "metadata": {},
   "outputs": [
    {
     "output_type": "stream",
     "name": "stdout",
     "text": [
      "Accuracy: 81.0%\nRecall: 75.0%\nPrecision: 83.0%\nF1: 80.0%\n"
     ]
    }
   ],
   "source": [
    "accuracy = accuracy_score(y_test2, y_pred2) #% de veces que el modelo acerta\n",
    "recall = recall_score(y_test2, y_pred2, average='macro')# el modelo es capar de identificar un 95%\n",
    "precision = precision_score(y_test2, y_pred2, average='weighted') # el modelo se equivoca un 5% en las veces que hace la predicción \n",
    "f1 = f1_score(y_test2, y_pred2, average='weighted')\n",
    "print('Accuracy: {}%'.format(round(accuracy, 2)*100))\n",
    "print('Recall: {}%'.format(round(recall, 2)*100))\n",
    "print('Precision: {}%'.format(round(precision, 2)*100))\n",
    "print('F1: {}%'.format(round(f1, 2)*100))"
   ]
  },
  {
   "cell_type": "code",
   "execution_count": null,
   "metadata": {},
   "outputs": [],
   "source": []
  }
 ]
}